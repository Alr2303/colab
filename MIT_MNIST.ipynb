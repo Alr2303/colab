{
  "nbformat": 4,
  "nbformat_minor": 0,
  "metadata": {
    "colab": {
      "name": "MIT_MNIST.ipynb",
      "version": "0.3.2",
      "provenance": []
    },
    "kernelspec": {
      "name": "python3",
      "display_name": "Python 3"
    }
  },
  "cells": [
    {
      "cell_type": "code",
      "metadata": {
        "id": "DSVYQ-zqCkY_",
        "colab_type": "code",
        "colab": {
          "base_uri": "https://localhost:8080/",
          "height": 35
        },
        "outputId": "11899005-fd4b-44e7-c20e-b1f5df3797f3"
      },
      "source": [
        "import numpy as np\n",
        "import pandas as pd\n",
        "from sklearn.model_selection import train_test_split\n",
        "from keras.datasets import mnist\n",
        "from keras.models import Sequential\n",
        "from keras.layers.core import Dense,Dropout,Activation,Flatten\n",
        "from keras.layers.convolutional import Conv2D,MaxPooling2D\n",
        "from keras.utils import np_utils# performs one hot encoding\n",
        "from sklearn import metrics\n",
        "import matplotlib.pyplot as plt\n",
        "%matplotlib inline"
      ],
      "execution_count": 1,
      "outputs": [
        {
          "output_type": "stream",
          "text": [
            "Using TensorFlow backend.\n"
          ],
          "name": "stderr"
        }
      ]
    },
    {
      "cell_type": "code",
      "metadata": {
        "id": "EkeiPZqfEC8n",
        "colab_type": "code",
        "colab": {
          "base_uri": "https://localhost:8080/",
          "height": 53
        },
        "outputId": "49ca5f51-8093-4af1-cfd2-912c857e07ab"
      },
      "source": [
        "(xtrain,ytrain),(xtest,ytest)=mnist.load_data()"
      ],
      "execution_count": 2,
      "outputs": [
        {
          "output_type": "stream",
          "text": [
            "Downloading data from https://s3.amazonaws.com/img-datasets/mnist.npz\n",
            "11493376/11490434 [==============================] - 1s 0us/step\n"
          ],
          "name": "stdout"
        }
      ]
    },
    {
      "cell_type": "code",
      "metadata": {
        "id": "K-VtJOQrElDL",
        "colab_type": "code",
        "colab": {
          "base_uri": "https://localhost:8080/",
          "height": 35
        },
        "outputId": "3d34db87-9aa0-45b6-b798-33f3ee9521aa"
      },
      "source": [
        "ytest.shape"
      ],
      "execution_count": 3,
      "outputs": [
        {
          "output_type": "execute_result",
          "data": {
            "text/plain": [
              "(10000,)"
            ]
          },
          "metadata": {
            "tags": []
          },
          "execution_count": 3
        }
      ]
    },
    {
      "cell_type": "code",
      "metadata": {
        "id": "f3u_uipsFXUs",
        "colab_type": "code",
        "colab": {
          "base_uri": "https://localhost:8080/",
          "height": 35
        },
        "outputId": "d9debce3-6c8a-4a0c-a8e7-bed340735fa3"
      },
      "source": [
        "ytrain[30000]"
      ],
      "execution_count": 4,
      "outputs": [
        {
          "output_type": "execute_result",
          "data": {
            "text/plain": [
              "3"
            ]
          },
          "metadata": {
            "tags": []
          },
          "execution_count": 4
        }
      ]
    },
    {
      "cell_type": "code",
      "metadata": {
        "id": "6zof1BO-FgZc",
        "colab_type": "code",
        "colab": {
          "base_uri": "https://localhost:8080/",
          "height": 287
        },
        "outputId": "eab6d1f3-954b-485a-95d5-4280c7212772"
      },
      "source": [
        "plt.imshow(xtrain[30000,:,:],cmap='gray')"
      ],
      "execution_count": 5,
      "outputs": [
        {
          "output_type": "execute_result",
          "data": {
            "text/plain": [
              "<matplotlib.image.AxesImage at 0x7fbd7202d630>"
            ]
          },
          "metadata": {
            "tags": []
          },
          "execution_count": 5
        },
        {
          "output_type": "display_data",
          "data": {
            "image/png": "[encoded data removed]",
            "text/plain": [
              "<Figure size 432x288 with 1 Axes>"
            ]
          },
          "metadata": {
            "tags": []
          }
        }
      ]
    },
    {
      "cell_type": "code",
      "metadata": {
        "id": "qo5OnEdsGQIS",
        "colab_type": "code",
        "colab": {}
      },
      "source": [
        "X_train, X_val, y_train, y_val = train_test_split(xtrain, ytrain, test_size = 0.2, random_state = 0)"
      ],
      "execution_count": 0,
      "outputs": []
    },
    {
      "cell_type": "code",
      "metadata": {
        "id": "8LbzjzfbHySF",
        "colab_type": "code",
        "colab": {
          "base_uri": "https://localhost:8080/",
          "height": 35
        },
        "outputId": "5dad1561-88ac-4ef8-e7f9-6ed43d595ca6"
      },
      "source": [
        "X_train.shape"
      ],
      "execution_count": 7,
      "outputs": [
        {
          "output_type": "execute_result",
          "data": {
            "text/plain": [
              "(48000, 28, 28)"
            ]
          },
          "metadata": {
            "tags": []
          },
          "execution_count": 7
        }
      ]
    },
    {
      "cell_type": "code",
      "metadata": {
        "id": "oRb7Pyw8H_UM",
        "colab_type": "code",
        "colab": {}
      },
      "source": [
        "#Represent Training & Testing samples suitable for \n",
        "#tensorflow backend\n",
        "x_train=X_train.reshape(X_train.shape[0],28,28,1)\n",
        "x_val=X_val.reshape(X_val.shape[0],28,28,1)\n",
        "x_test=xtest.reshape(xtest.shape[0],28,28,1)\n",
        "#for theano (1,28,28), for tensorflow (28,28,1)"
      ],
      "execution_count": 0,
      "outputs": []
    },
    {
      "cell_type": "code",
      "metadata": {
        "id": "mhTXc6VNIRsz",
        "colab_type": "code",
        "colab": {
          "base_uri": "https://localhost:8080/",
          "height": 35
        },
        "outputId": "4c4a375b-7029-4856-f6ef-3b499e9284d3"
      },
      "source": [
        "x_train.shape"
      ],
      "execution_count": 9,
      "outputs": [
        {
          "output_type": "execute_result",
          "data": {
            "text/plain": [
              "(48000, 28, 28, 1)"
            ]
          },
          "metadata": {
            "tags": []
          },
          "execution_count": 9
        }
      ]
    },
    {
      "cell_type": "code",
      "metadata": {
        "id": "RFUFIcWqJVWz",
        "colab_type": "code",
        "colab": {
          "base_uri": "https://localhost:8080/",
          "height": 34
        },
        "outputId": "7ac57011-4492-4347-a265-8f3d4850475c"
      },
      "source": [
        "y_train[0]"
      ],
      "execution_count": 10,
      "outputs": [
        {
          "output_type": "execute_result",
          "data": {
            "text/plain": [
              "7"
            ]
          },
          "metadata": {
            "tags": []
          },
          "execution_count": 10
        }
      ]
    },
    {
      "cell_type": "code",
      "metadata": {
        "id": "c28EBzWdIQrj",
        "colab_type": "code",
        "colab": {}
      },
      "source": [
        "#Encoding the output class label (One-Hot Encoding)\n",
        "y_train=np_utils.to_categorical(y_train)\n",
        "y_val=np_utils.to_categorical(y_val)\n",
        "y_test=np_utils.to_categorical(ytest)"
      ],
      "execution_count": 0,
      "outputs": []
    },
    {
      "cell_type": "code",
      "metadata": {
        "id": "Et16trbCJdc7",
        "colab_type": "code",
        "colab": {
          "base_uri": "https://localhost:8080/",
          "height": 35
        },
        "outputId": "2b895a93-2d5e-4a9e-80d0-4f4f13b39d51"
      },
      "source": [
        "y_test[0]"
      ],
      "execution_count": 26,
      "outputs": [
        {
          "output_type": "execute_result",
          "data": {
            "text/plain": [
              "array([0., 0., 0., 0., 0., 0., 0., 1., 0., 0.], dtype=float32)"
            ]
          },
          "metadata": {
            "tags": []
          },
          "execution_count": 26
        }
      ]
    },
    {
      "cell_type": "code",
      "metadata": {
        "id": "hxUfKaVQJqLL",
        "colab_type": "code",
        "colab": {
          "base_uri": "https://localhost:8080/",
          "height": 199
        },
        "outputId": "2cde2d83-8f63-4aa7-9376-1f47a82d90d6"
      },
      "source": [
        "model=Sequential()\n",
        "model.add(Conv2D(32,(3,3),border_mode='valid',input_shape=(28,28,1),activation='relu'))"
      ],
      "execution_count": 13,
      "outputs": [
        {
          "output_type": "stream",
          "text": [
            "WARNING: Logging before flag parsing goes to stderr.\n",
            "W0823 06:33:01.944625 140452746966912 deprecation_wrapper.py:119] From /usr/local/lib/python3.6/dist-packages/keras/backend/tensorflow_backend.py:74: The name tf.get_default_graph is deprecated. Please use tf.compat.v1.get_default_graph instead.\n",
            "\n",
            "/usr/local/lib/python3.6/dist-packages/ipykernel_launcher.py:2: UserWarning: Update your `Conv2D` call to the Keras 2 API: `Conv2D(32, (3, 3), input_shape=(28, 28, 1..., activation=\"relu\", padding=\"valid\")`\n",
            "  \n",
            "W0823 06:33:02.006994 140452746966912 deprecation_wrapper.py:119] From /usr/local/lib/python3.6/dist-packages/keras/backend/tensorflow_backend.py:517: The name tf.placeholder is deprecated. Please use tf.compat.v1.placeholder instead.\n",
            "\n",
            "W0823 06:33:02.015808 140452746966912 deprecation_wrapper.py:119] From /usr/local/lib/python3.6/dist-packages/keras/backend/tensorflow_backend.py:4138: The name tf.random_uniform is deprecated. Please use tf.random.uniform instead.\n",
            "\n"
          ],
          "name": "stderr"
        }
      ]
    },
    {
      "cell_type": "code",
      "metadata": {
        "id": "RpgnwLvCJ9uL",
        "colab_type": "code",
        "colab": {
          "base_uri": "https://localhost:8080/",
          "height": 81
        },
        "outputId": "c1fb9d79-4008-4dfa-96cc-16fe46f8053b"
      },
      "source": [
        "model.add(MaxPooling2D(pool_size=(2,2)))"
      ],
      "execution_count": 14,
      "outputs": [
        {
          "output_type": "stream",
          "text": [
            "W0823 06:33:02.076667 140452746966912 deprecation_wrapper.py:119] From /usr/local/lib/python3.6/dist-packages/keras/backend/tensorflow_backend.py:3976: The name tf.nn.max_pool is deprecated. Please use tf.nn.max_pool2d instead.\n",
            "\n"
          ],
          "name": "stderr"
        }
      ]
    },
    {
      "cell_type": "code",
      "metadata": {
        "id": "M6NO3jhLKBaj",
        "colab_type": "code",
        "colab": {}
      },
      "source": [
        "model.add(Flatten())"
      ],
      "execution_count": 0,
      "outputs": []
    },
    {
      "cell_type": "code",
      "metadata": {
        "id": "NZaGbYtwJqeD",
        "colab_type": "code",
        "colab": {}
      },
      "source": [
        "model.add(Dense(64,activation='relu'))"
      ],
      "execution_count": 0,
      "outputs": []
    },
    {
      "cell_type": "code",
      "metadata": {
        "id": "i2XVN-XBKzs0",
        "colab_type": "code",
        "colab": {}
      },
      "source": [
        "model.add(Dense(10,activation='softmax'))"
      ],
      "execution_count": 0,
      "outputs": []
    },
    {
      "cell_type": "code",
      "metadata": {
        "id": "fsw6atRaK_nn",
        "colab_type": "code",
        "colab": {}
      },
      "source": [
        "model.compile(loss='categorical_crossentropy',optimizer='adam',metrics=['accuracy'])\n"
      ],
      "execution_count": 0,
      "outputs": []
    },
    {
      "cell_type": "code",
      "metadata": {
        "id": "zFKNNZI2LDWD",
        "colab_type": "code",
        "colab": {
          "base_uri": "https://localhost:8080/",
          "height": 1000
        },
        "outputId": "944536fe-72f7-49fd-8dd3-0b3af1a3328e"
      },
      "source": [
        "model.fit(x_train,y_train,batch_size=128,nb_epoch=20, verbose=1, validation_data=(x_val,y_val))\n"
      ],
      "execution_count": 22,
      "outputs": [
        {
          "output_type": "stream",
          "text": [
            "/usr/local/lib/python3.6/dist-packages/ipykernel_launcher.py:1: UserWarning: The `nb_epoch` argument in `fit` has been renamed `epochs`.\n",
            "  \"\"\"Entry point for launching an IPython kernel.\n",
            "W0823 06:35:14.327644 140452746966912 deprecation.py:323] From /usr/local/lib/python3.6/dist-packages/tensorflow/python/ops/math_grad.py:1250: add_dispatch_support.<locals>.wrapper (from tensorflow.python.ops.array_ops) is deprecated and will be removed in a future version.\n",
            "Instructions for updating:\n",
            "Use tf.where in 2.0, which has the same broadcast rule as np.where\n",
            "W0823 06:35:14.400877 140452746966912 deprecation_wrapper.py:119] From /usr/local/lib/python3.6/dist-packages/keras/backend/tensorflow_backend.py:986: The name tf.assign_add is deprecated. Please use tf.compat.v1.assign_add instead.\n",
            "\n"
          ],
          "name": "stderr"
        },
        {
          "output_type": "stream",
          "text": [
            "Train on 48000 samples, validate on 12000 samples\n",
            "Epoch 1/20\n",
            "48000/48000 [==============================] - 23s 471us/step - loss: 2.1183 - acc: 0.3132 - val_loss: 1.9379 - val_acc: 0.3692\n",
            "Epoch 2/20\n",
            "48000/48000 [==============================] - 21s 443us/step - loss: 1.8065 - acc: 0.3814 - val_loss: 1.6523 - val_acc: 0.3958\n",
            "Epoch 3/20\n",
            "48000/48000 [==============================] - 21s 442us/step - loss: 1.5844 - acc: 0.3879 - val_loss: 1.5162 - val_acc: 0.3929\n",
            "Epoch 4/20\n",
            "48000/48000 [==============================] - 21s 440us/step - loss: 1.4451 - acc: 0.3944 - val_loss: 1.3832 - val_acc: 0.3971\n",
            "Epoch 5/20\n",
            "48000/48000 [==============================] - 21s 438us/step - loss: 1.3644 - acc: 0.3950 - val_loss: 1.2997 - val_acc: 0.4031\n",
            "Epoch 6/20\n",
            "48000/48000 [==============================] - 21s 441us/step - loss: 1.2971 - acc: 0.3962 - val_loss: 1.2690 - val_acc: 0.4057\n",
            "Epoch 7/20\n",
            "48000/48000 [==============================] - 21s 439us/step - loss: 1.2613 - acc: 0.4016 - val_loss: 1.2332 - val_acc: 0.4040\n",
            "Epoch 8/20\n",
            "48000/48000 [==============================] - 21s 437us/step - loss: 1.2341 - acc: 0.4013 - val_loss: 1.1994 - val_acc: 0.4096\n",
            "Epoch 9/20\n",
            "48000/48000 [==============================] - 21s 435us/step - loss: 1.2079 - acc: 0.4108 - val_loss: 1.2121 - val_acc: 0.4086\n",
            "Epoch 10/20\n",
            "48000/48000 [==============================] - 21s 433us/step - loss: 1.1783 - acc: 0.4179 - val_loss: 1.1502 - val_acc: 0.4514\n",
            "Epoch 11/20\n",
            "48000/48000 [==============================] - 21s 438us/step - loss: 1.1038 - acc: 0.4827 - val_loss: 1.0551 - val_acc: 0.4983\n",
            "Epoch 12/20\n",
            "48000/48000 [==============================] - 21s 437us/step - loss: 1.0447 - acc: 0.4991 - val_loss: 1.0310 - val_acc: 0.5008\n",
            "Epoch 13/20\n",
            "48000/48000 [==============================] - 21s 435us/step - loss: 0.9960 - acc: 0.5404 - val_loss: 0.9229 - val_acc: 0.6199\n",
            "Epoch 14/20\n",
            "48000/48000 [==============================] - 21s 437us/step - loss: 0.8736 - acc: 0.6410 - val_loss: 0.7994 - val_acc: 0.6757\n",
            "Epoch 15/20\n",
            "48000/48000 [==============================] - 21s 435us/step - loss: 0.7709 - acc: 0.6747 - val_loss: 0.7310 - val_acc: 0.6802\n",
            "Epoch 16/20\n",
            "48000/48000 [==============================] - 21s 430us/step - loss: 0.7501 - acc: 0.6730 - val_loss: 0.7359 - val_acc: 0.6751\n",
            "Epoch 17/20\n",
            "48000/48000 [==============================] - 21s 433us/step - loss: 0.7309 - acc: 0.6790 - val_loss: 0.6896 - val_acc: 0.6848\n",
            "Epoch 18/20\n",
            "48000/48000 [==============================] - 21s 437us/step - loss: 0.7114 - acc: 0.6822 - val_loss: 0.6895 - val_acc: 0.6863\n",
            "Epoch 19/20\n",
            "48000/48000 [==============================] - 21s 434us/step - loss: 0.7025 - acc: 0.6852 - val_loss: 0.6756 - val_acc: 0.6887\n",
            "Epoch 20/20\n",
            "48000/48000 [==============================] - 21s 437us/step - loss: 0.6844 - acc: 0.6830 - val_loss: 0.7053 - val_acc: 0.6707\n"
          ],
          "name": "stdout"
        },
        {
          "output_type": "execute_result",
          "data": {
            "text/plain": [
              "<keras.callbacks.History at 0x7fbd6f781ef0>"
            ]
          },
          "metadata": {
            "tags": []
          },
          "execution_count": 22
        }
      ]
    },
    {
      "cell_type": "code",
      "metadata": {
        "id": "X6owDktnNnUG",
        "colab_type": "code",
        "colab": {
          "base_uri": "https://localhost:8080/",
          "height": 35
        },
        "outputId": "c8c20eba-e895-406a-fbd5-ef638bb1b74e"
      },
      "source": [
        "score=model.evaluate(x_val,y_val)"
      ],
      "execution_count": 23,
      "outputs": [
        {
          "output_type": "stream",
          "text": [
            "12000/12000 [==============================] - 2s 160us/step\n"
          ],
          "name": "stdout"
        }
      ]
    },
    {
      "cell_type": "code",
      "metadata": {
        "id": "wCZf07cSNqvj",
        "colab_type": "code",
        "colab": {
          "base_uri": "https://localhost:8080/",
          "height": 35
        },
        "outputId": "9ed6aaf9-9668-4151-be3b-77b4e4d253d4"
      },
      "source": [
        "score"
      ],
      "execution_count": 24,
      "outputs": [
        {
          "output_type": "execute_result",
          "data": {
            "text/plain": [
              "[0.7052510391871134, 0.67075]"
            ]
          },
          "metadata": {
            "tags": []
          },
          "execution_count": 24
        }
      ]
    },
    {
      "cell_type": "code",
      "metadata": {
        "id": "rg6HIE8MNwNC",
        "colab_type": "code",
        "colab": {}
      },
      "source": [
        "y_predict=model.predict(x_test)"
      ],
      "execution_count": 0,
      "outputs": []
    },
    {
      "cell_type": "code",
      "metadata": {
        "id": "rpa2LWLcN1yP",
        "colab_type": "code",
        "colab": {
          "base_uri": "https://localhost:8080/",
          "height": 35
        },
        "outputId": "b531f9cc-163b-454d-9f10-056bec691b58"
      },
      "source": [
        "np.argmax(y_predict[0])"
      ],
      "execution_count": 27,
      "outputs": [
        {
          "output_type": "execute_result",
          "data": {
            "text/plain": [
              "7"
            ]
          },
          "metadata": {
            "tags": []
          },
          "execution_count": 27
        }
      ]
    },
    {
      "cell_type": "code",
      "metadata": {
        "id": "PFu2YKr5N8eT",
        "colab_type": "code",
        "colab": {
          "base_uri": "https://localhost:8080/",
          "height": 198
        },
        "outputId": "9c56fa03-d9d2-47a0-f408-505f30ef44dd"
      },
      "source": [
        "y_pred = []\n",
        "for val in y_predict:\n",
        "    y_pred.append(np.argmax(val))\n",
        "#print(y_pred)    \n",
        "#convert 0 1 to 1 and 1 0 as 0\n",
        "cm = metrics.confusion_matrix(ytest,y_pred)\n",
        "print(cm)"
      ],
      "execution_count": 28,
      "outputs": [
        {
          "output_type": "stream",
          "text": [
            "[[ 966    0    6    0    7    0    0    1    0    0]\n",
            " [   3 1119    7    0    4    0    0    0    2    0]\n",
            " [  18    2  996    1   12    0    0    3    0    0]\n",
            " [  50    0   21  927    2    0    0    6    2    2]\n",
            " [   2    2    1    0  953    0    0    0   12   12]\n",
            " [ 883    0    1    4    3    0    0    0    1    0]\n",
            " [  62    2    1    0  892    0    0    0    1    0]\n",
            " [  16    1   25    5   21    0    0  943    1   16]\n",
            " [ 942    3    8   11    5    0    0    1    3    1]\n",
            " [  66    6    5    1   35    0    0   10    6  880]]\n"
          ],
          "name": "stdout"
        }
      ]
    }
  ]
}